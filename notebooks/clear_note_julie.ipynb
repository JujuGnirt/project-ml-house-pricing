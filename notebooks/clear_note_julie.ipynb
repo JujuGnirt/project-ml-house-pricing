{
 "cells": [
  {
   "cell_type": "code",
   "execution_count": null,
   "id": "b7be9cff-6e28-4256-adcb-d4f424425273",
   "metadata": {},
   "outputs": [],
   "source": [
    "import pandas as pd\n",
    "import numpy as np\n",
    "\n",
    "import matplotlib.pyplot as plt\n",
    "import seaborn as sns\n",
    "\n",
    "from sklearn.model_selection import train_test_split\n",
    "from sklearn.neighbors import KNeighborsClassifier\n",
    "\n",
    "from sklearn.preprocessing import MinMaxScaler, StandardScaler\n",
    "\n",
    "from sklearn.linear_model import LinearRegression\n",
    "from sklearn.tree import DecisionTreeRegressor\n",
    "\n",
    "from sklearn.preprocessing import MinMaxScaler, StandardScaler\n",
    "from sklearn.metrics import r2_score, mean_absolute_error, mean_squared_error, root_mean_squared_error"
   ]
  },
  {
   "cell_type": "code",
   "execution_count": null,
   "id": "e93445c5-94b3-4361-b7ff-1189a4ef3f4e",
   "metadata": {},
   "outputs": [],
   "source": [
    "house = pd.read_csv(\"../data/raw/data_house.csv\")"
   ]
  },
  {
   "cell_type": "code",
   "execution_count": null,
   "id": "ca9c743f-7ca4-4ea8-b2bd-711ac3f77e4b",
   "metadata": {},
   "outputs": [],
   "source": [
    "house.info()"
   ]
  },
  {
   "cell_type": "code",
   "execution_count": null,
   "id": "358eabb2-09af-4417-a6a9-d74a58f92adb",
   "metadata": {},
   "outputs": [],
   "source": [
    "#HINTS FROM IGNACIO:\n",
    "# Step 1: Compute mean price per ZIP code and sort by the mean price\n",
    "mean_price_per_zip = house.groupby('zipcode')['price'].mean()\n",
    "\n",
    "# Step 2: Identify the cheapest ZIP code's mean price and replace by 1\n",
    "min_price = mean_price_per_zip.min()\n",
    "\n",
    "# Step 3: Create a ZIP code to price ratio mapping\n",
    "zip_ratio_map = (mean_price_per_zip / min_price).to_dict()\n",
    "\n",
    "# Step 4: Replace ZIP codes with their price ratio\n",
    "house['zipcode'] = house['zipcode'].map(zip_ratio_map)\n",
    "\n",
    "house['zipcode'].sort_values()"
   ]
  },
  {
   "cell_type": "code",
   "execution_count": null,
   "id": "1735740f-047f-4674-a33d-38ed43fec2ad",
   "metadata": {},
   "outputs": [],
   "source": [
    "house = house.drop([\"Unnamed: 0\", \"id\", \"date\", \"yr_renovated\", \"long\", \"lat\",\"yr_built\"], axis = 1)"
   ]
  },
  {
   "cell_type": "code",
   "execution_count": null,
   "id": "2196a7b0-7636-4b5f-85da-592b521958f7",
   "metadata": {},
   "outputs": [],
   "source": [
    "house.head()"
   ]
  },
  {
   "cell_type": "code",
   "execution_count": null,
   "id": "21dc95c7-6814-4d9e-8161-6084b6c618c8",
   "metadata": {},
   "outputs": [],
   "source": [
    "corr=np.abs(house.corr(method='pearson')) # corr(x,y) = corr(y, x), corr(x,x) = 1\n",
    "\n",
    "#Set up mask for triangle representation\n",
    "mask = np.zeros_like(corr, dtype=bool)\n",
    "mask[np.triu_indices_from(mask)] = True\n",
    "\n",
    "# Set up the matplotlib figure\n",
    "f, ax = plt.subplots(figsize=(12, 12))\n",
    "# Generate a custom diverging colormap\n",
    "cmap = sns.diverging_palette(220, 10, as_cmap=True)\n",
    "# Draw the heatmap with the mask and correct aspect ratio\n",
    "sns.heatmap(corr, mask=mask,  vmax=1,square=True, linewidths=.5, cmap=\"copper\",annot = corr)\n",
    "plt.title(\" Linear Correlation \")\n",
    "plt.show()"
   ]
  },
  {
   "cell_type": "code",
   "execution_count": null,
   "id": "46cb7c5f-1ef7-426e-acf2-736e9e4a7b76",
   "metadata": {},
   "outputs": [],
   "source": [
    "corr=np.abs(house.corr(method = \"spearman\")) # corr(x,y) = corr(y, x), corr(x,x) = 1\n",
    "\n",
    "#Set up mask for triangle representation\n",
    "mask = np.zeros_like(corr, dtype=bool)\n",
    "mask[np.triu_indices_from(mask)] = True\n",
    "\n",
    "# Set up the matplotlib figure\n",
    "f, ax = plt.subplots(figsize=(12, 12))\n",
    "# Generate a custom diverging colormap\n",
    "cmap = sns.diverging_palette(220, 10, as_cmap=True)\n",
    "# Draw the heatmap with the mask and correct aspect ratio\n",
    "sns.heatmap(corr, mask=mask,  vmax=1,square=True, linewidths=.5, cmap=\"copper\",annot = corr)\n",
    "plt.title(\" Spearman Correlation (Non-linear)\")\n",
    "plt.show()"
   ]
  },
  {
   "cell_type": "code",
   "execution_count": null,
   "id": "1e95d073-769d-4178-bbce-baade8abcb85",
   "metadata": {},
   "outputs": [],
   "source": [
    "house = house.drop([\"sqft_lot\",\"waterfront\",\"view\",\"condition\",\"sqft_above\",\"sqft_basement\",\"sqft_living15\",\"sqft_lot15\"], axis = 1)"
   ]
  },
  {
   "cell_type": "code",
   "execution_count": null,
   "id": "394eb6ac-704a-47a9-86ff-1907321021de",
   "metadata": {},
   "outputs": [],
   "source": [
    "Q1 = house[\"price\"].quantile(0.25)\n",
    "Q3 = house[\"price\"].quantile(0.75)\n",
    "IQR = Q3 - Q1\n",
    "\n",
    "mask = (house[\"price\"] >= (Q1 - 1.5 * IQR)) & (house[\"price\"] <= (Q3 + 1.5 * IQR))\n",
    "df = house[mask]"
   ]
  },
  {
   "cell_type": "code",
   "execution_count": null,
   "id": "7ae8a576-4556-4710-9b56-b7535d21760d",
   "metadata": {},
   "outputs": [],
   "source": [
    "features = df.drop(columns = [\"price\"])\n",
    "target = df[\"price\"]\n",
    "\n",
    "X_train, X_test, y_train, y_test = train_test_split(features, target, test_size = 0.20, random_state=0)"
   ]
  },
  {
   "cell_type": "code",
   "execution_count": null,
   "id": "d4e65e72-7472-4760-a47c-0ef36471dbde",
   "metadata": {},
   "outputs": [],
   "source": [
    "normalizer = MinMaxScaler()\n",
    "normalizer.fit(X_train)"
   ]
  },
  {
   "cell_type": "code",
   "execution_count": null,
   "id": "d900dd82-755b-47d1-9347-b5740db199b4",
   "metadata": {},
   "outputs": [],
   "source": [
    "X_train_norm = normalizer.transform(X_train)\n",
    "X_test_norm = normalizer.transform(X_test)"
   ]
  },
  {
   "cell_type": "code",
   "execution_count": null,
   "id": "53338503-c3f5-47c0-846f-004e5d1297ea",
   "metadata": {},
   "outputs": [],
   "source": [
    "X_train_norm = pd.DataFrame(X_train_norm, columns=X_train.columns, index=X_train.index)"
   ]
  },
  {
   "cell_type": "code",
   "execution_count": null,
   "id": "d87e4394-6cda-4ce0-adcd-a413206c52e2",
   "metadata": {},
   "outputs": [],
   "source": [
    "X_test_norm = pd.DataFrame(X_test_norm, columns=X_test.columns, index=X_test.index)"
   ]
  },
  {
   "cell_type": "code",
   "execution_count": null,
   "id": "2308f653-e935-4a2c-81d0-41e4068bba40",
   "metadata": {},
   "outputs": [],
   "source": [
    "tree = DecisionTreeRegressor(max_depth=10)\n",
    "tree.fit(X_train_norm, y_train)\n",
    "y_pred_test_dt = tree.predict(X_test_norm)\n",
    "\n",
    "print(f\"MAE, {mean_absolute_error(y_pred_test_dt, y_test): .2f}\")\n",
    "print(f\"MSE, {mean_squared_error(y_pred_test_dt, y_test): .2f}\")\n",
    "print(f\"RMSE, {root_mean_squared_error(y_pred_test_dt, y_test): .2f}\")\n",
    "print(f\"R2 score, {tree.score(X_test_norm, y_test): .2f}\")"
   ]
  },
  {
   "cell_type": "code",
   "execution_count": null,
   "id": "8a9ae9b0-15ba-4b6f-882c-11807c838533",
   "metadata": {},
   "outputs": [],
   "source": [
    "tree_importance = {feature : importance for feature, importance in zip(X_train_norm.columns, tree.feature_importances_)}\n",
    "tree_importance"
   ]
  },
  {
   "cell_type": "code",
   "execution_count": null,
   "id": "f5ab831a-ae85-4c83-af5f-395b87745b92",
   "metadata": {},
   "outputs": [],
   "source": [
    "from sklearn.tree import export_text\n",
    "\n",
    "tree_viz = export_text(tree, feature_names=list(X_train_norm.columns))\n",
    "print(tree_viz)"
   ]
  },
  {
   "cell_type": "code",
   "execution_count": null,
   "id": "8522ee7d-4239-4ba3-9446-652150048518",
   "metadata": {},
   "outputs": [],
   "source": [
    "from sklearn.tree import DecisionTreeRegressor, export_graphviz\n",
    "import graphviz\n",
    "\n",
    "tree = DecisionTreeRegressor(max_depth=2)\n",
    "tree.fit(X_train_norm, y_train)\n",
    "\n",
    "\n",
    "dot_data = export_graphviz(tree, out_file=\"tree.dot\", filled=True, rounded=True, feature_names=X_train_norm.columns)\n",
    "\n",
    "with open(\"tree.dot\") as f:\n",
    "    dot_graph = f.read()\n",
    "graphviz.Source(dot_graph)"
   ]
  },
  {
   "cell_type": "code",
   "execution_count": null,
   "id": "f118a9a8-408c-4aaa-b66d-a80d220b6170",
   "metadata": {},
   "outputs": [],
   "source": [
    "#Linear regression\n",
    "lin_reg = LinearRegression()\n",
    "lin_reg.fit(X_train_norm, y_train) # Determines the b0 and b1's values\n",
    "import pickle\n",
    "\n",
    "#with open(\"linear_model.pkl\", \"wb\") as file:\n",
    " #   pickle.dump(lin_reg, file)\n",
    "\n",
    "#with open(\"min_max_scaler.pkl\", \"wb\") as file:\n",
    " #   pickle.dump(normalizer, file)\n",
    "\n",
    "y_pred_test = lin_reg.predict(X_test_norm)\n",
    "\n",
    "#lin_reg.score(X_test_norm_df, y_test)\n",
    "\n",
    "print(f\"MAE {mean_absolute_error(y_pred_test, y_test): .2f}\") # mean(abs(error)) = mean(abs(y_test - y_pred_test))\n",
    "print(f\"MSE {mean_squared_error(y_pred_test, y_test): .2f}\") # mean(error**2) = mean((y_test - y_pred_test)**2)\n",
    "print(f\"RMSE, {root_mean_squared_error(y_pred_test, y_test): .2f}\") # sqrt( mean( (y_test - y_pred_test)^2 ) ) # b0, b1, b2...\n",
    "print(f\"R2 score, {lin_reg.score(X_test_norm, y_test): .2f}\") # r2_score"
   ]
  },
  {
   "cell_type": "code",
   "execution_count": null,
   "id": "7adf8af9-e29c-4780-8212-f25fae89c3d6",
   "metadata": {},
   "outputs": [],
   "source": [
    "lin_reg_coef = {feature : coef for feature, coef in zip(X_train_norm.columns, lin_reg.coef_)}\n",
    "lin_reg_coef"
   ]
  },
  {
   "cell_type": "code",
   "execution_count": null,
   "id": "04bed905-fcfb-4de8-9e53-54ba0fdf18c5",
   "metadata": {},
   "outputs": [],
   "source": [
    "lin_reg.intercept_"
   ]
  },
  {
   "cell_type": "code",
   "execution_count": null,
   "id": "d1b59b60-4778-4dff-a3e6-5f8080d06399",
   "metadata": {},
   "outputs": [],
   "source": [
    "#KNN\n",
    "from sklearn.neighbors import KNeighborsRegressor\n",
    "knn = KNeighborsRegressor(n_neighbors=10)\n",
    "knn.fit(X_train_norm, y_train)\n",
    "print(f\"The R2 of the model is {knn.score(X_test_norm, y_test): .2f}\")\n",
    "knn.predict(X_test_norm)\n",
    "y_test.values"
   ]
  },
  {
   "cell_type": "code",
   "execution_count": null,
   "id": "0ad1127c-4b8e-4664-8c3a-9d27766f685d",
   "metadata": {},
   "outputs": [],
   "source": []
  }
 ],
 "metadata": {
  "kernelspec": {
   "display_name": "venv",
   "language": "python",
   "name": "venv"
  },
  "language_info": {
   "codemirror_mode": {
    "name": "ipython",
    "version": 3
   },
   "file_extension": ".py",
   "mimetype": "text/x-python",
   "name": "python",
   "nbconvert_exporter": "python",
   "pygments_lexer": "ipython3",
   "version": "3.12.7"
  }
 },
 "nbformat": 4,
 "nbformat_minor": 5
}
