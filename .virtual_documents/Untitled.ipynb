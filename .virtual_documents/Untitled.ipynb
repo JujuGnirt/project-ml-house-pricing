import pandas as pd

# Always reload the data to avoid stale state
df = pd.read_csv("/Users/dejmen/desktop/ironhack/week7/day1/project-ml-house-pricing/data/raw/data_house.csv") 

df.head()


columns_to_drop = ["yr_renovated", "date", "long", "lat", "id"]

unnamed_cols = [col for col in df.columns if 'unnamed' in col.lower()]
columns_to_drop.extend(unnamed_cols)

df_cleaned = df.drop(columns=columns_to_drop)
df_cleaned


import matplotlib.pyplot as plt
import seaborn as sns

null_values = df_cleaned.isnull().sum()
null_values


# Check data types
data_types = df_cleaned.dtypes
data_types


# Plot feature distributions (excluding 'price')
plt.figure(figsize=(16, 12))
df_cleaned.drop('price', axis=1).hist(bins=30, figsize=(16, 12))
plt.suptitle('Feature Distributions', fontsize=20)
plt.tight_layout()
plt.show()

# Correlation with target variable 'price'
correlation_matrix = df_cleaned.corr()
correlation_with_price = correlation_matrix['price'].sort_values(ascending=False)
correlation_with_price



